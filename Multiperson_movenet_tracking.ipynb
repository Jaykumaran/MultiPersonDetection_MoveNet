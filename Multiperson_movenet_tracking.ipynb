{
 "cells": [
  {
   "cell_type": "code",
   "execution_count": 1,
   "id": "9e7d980d",
   "metadata": {},
   "outputs": [
    {
     "name": "stdout",
     "output_type": "stream",
     "text": [
      "Requirement already satisfied: tensorflow==2.4.1 in c:\\users\\jaikr\\.conda\\envs\\jupyter_\\lib\\site-packages (2.4.1)\n",
      "Requirement already satisfied: tensorflow-gpu==2.4.1 in c:\\users\\jaikr\\.conda\\envs\\jupyter_\\lib\\site-packages (2.4.1)\n",
      "Requirement already satisfied: opencv-python in c:\\users\\jaikr\\.conda\\envs\\jupyter_\\lib\\site-packages (4.8.0.76)\n",
      "Requirement already satisfied: matplotlib in c:\\users\\jaikr\\.conda\\envs\\jupyter_\\lib\\site-packages (3.5.3)\n",
      "Requirement already satisfied: h5py~=2.10.0 in c:\\users\\jaikr\\.conda\\envs\\jupyter_\\lib\\site-packages (from tensorflow==2.4.1) (2.10.0)\n",
      "Requirement already satisfied: google-pasta~=0.2 in c:\\users\\jaikr\\.conda\\envs\\jupyter_\\lib\\site-packages (from tensorflow==2.4.1) (0.2.0)\n",
      "Requirement already satisfied: absl-py~=0.10 in c:\\users\\jaikr\\.conda\\envs\\jupyter_\\lib\\site-packages (from tensorflow==2.4.1) (0.15.0)\n",
      "Requirement already satisfied: gast==0.3.3 in c:\\users\\jaikr\\.conda\\envs\\jupyter_\\lib\\site-packages (from tensorflow==2.4.1) (0.3.3)\n",
      "Requirement already satisfied: typing-extensions~=3.7.4 in c:\\users\\jaikr\\.conda\\envs\\jupyter_\\lib\\site-packages (from tensorflow==2.4.1) (3.7.4.3)\n",
      "Requirement already satisfied: astunparse~=1.6.3 in c:\\users\\jaikr\\.conda\\envs\\jupyter_\\lib\\site-packages (from tensorflow==2.4.1) (1.6.3)\n",
      "Requirement already satisfied: tensorboard~=2.4 in c:\\users\\jaikr\\.conda\\envs\\jupyter_\\lib\\site-packages (from tensorflow==2.4.1) (2.11.2)\n",
      "Requirement already satisfied: flatbuffers~=1.12.0 in c:\\users\\jaikr\\.conda\\envs\\jupyter_\\lib\\site-packages (from tensorflow==2.4.1) (1.12)\n",
      "Requirement already satisfied: opt-einsum~=3.3.0 in c:\\users\\jaikr\\.conda\\envs\\jupyter_\\lib\\site-packages (from tensorflow==2.4.1) (3.3.0)\n",
      "Requirement already satisfied: tensorflow-estimator<2.5.0,>=2.4.0 in c:\\users\\jaikr\\.conda\\envs\\jupyter_\\lib\\site-packages (from tensorflow==2.4.1) (2.4.0)\n",
      "Requirement already satisfied: keras-preprocessing~=1.1.2 in c:\\users\\jaikr\\.conda\\envs\\jupyter_\\lib\\site-packages (from tensorflow==2.4.1) (1.1.2)\n",
      "Requirement already satisfied: protobuf>=3.9.2 in c:\\users\\jaikr\\.conda\\envs\\jupyter_\\lib\\site-packages (from tensorflow==2.4.1) (3.20.3)\n",
      "Requirement already satisfied: termcolor~=1.1.0 in c:\\users\\jaikr\\.conda\\envs\\jupyter_\\lib\\site-packages (from tensorflow==2.4.1) (1.1.0)\n",
      "Requirement already satisfied: grpcio~=1.32.0 in c:\\users\\jaikr\\.conda\\envs\\jupyter_\\lib\\site-packages (from tensorflow==2.4.1) (1.32.0)\n",
      "Requirement already satisfied: six~=1.15.0 in c:\\users\\jaikr\\.conda\\envs\\jupyter_\\lib\\site-packages (from tensorflow==2.4.1) (1.15.0)\n",
      "Requirement already satisfied: wrapt~=1.12.1 in c:\\users\\jaikr\\.conda\\envs\\jupyter_\\lib\\site-packages (from tensorflow==2.4.1) (1.12.1)\n",
      "Requirement already satisfied: numpy~=1.19.2 in c:\\users\\jaikr\\.conda\\envs\\jupyter_\\lib\\site-packages (from tensorflow==2.4.1) (1.19.5)\n",
      "Requirement already satisfied: wheel~=0.35 in c:\\users\\jaikr\\.conda\\envs\\jupyter_\\lib\\site-packages (from tensorflow==2.4.1) (0.38.4)\n",
      "Requirement already satisfied: cycler>=0.10 in c:\\users\\jaikr\\.conda\\envs\\jupyter_\\lib\\site-packages (from matplotlib) (0.11.0)\n",
      "Requirement already satisfied: python-dateutil>=2.7 in c:\\users\\jaikr\\.conda\\envs\\jupyter_\\lib\\site-packages (from matplotlib) (2.8.2)\n",
      "Requirement already satisfied: kiwisolver>=1.0.1 in c:\\users\\jaikr\\.conda\\envs\\jupyter_\\lib\\site-packages (from matplotlib) (1.4.4)\n",
      "Requirement already satisfied: pyparsing>=2.2.1 in c:\\users\\jaikr\\.conda\\envs\\jupyter_\\lib\\site-packages (from matplotlib) (3.1.1)\n",
      "Requirement already satisfied: packaging>=20.0 in c:\\users\\jaikr\\.conda\\envs\\jupyter_\\lib\\site-packages (from matplotlib) (22.0)\n",
      "Requirement already satisfied: pillow>=6.2.0 in c:\\users\\jaikr\\.conda\\envs\\jupyter_\\lib\\site-packages (from matplotlib) (9.5.0)\n",
      "Requirement already satisfied: fonttools>=4.22.0 in c:\\users\\jaikr\\.conda\\envs\\jupyter_\\lib\\site-packages (from matplotlib) (4.38.0)\n",
      "Requirement already satisfied: werkzeug>=1.0.1 in c:\\users\\jaikr\\.conda\\envs\\jupyter_\\lib\\site-packages (from tensorboard~=2.4->tensorflow==2.4.1) (2.2.3)\n",
      "Requirement already satisfied: tensorboard-data-server<0.7.0,>=0.6.0 in c:\\users\\jaikr\\.conda\\envs\\jupyter_\\lib\\site-packages (from tensorboard~=2.4->tensorflow==2.4.1) (0.6.1)\n",
      "Requirement already satisfied: setuptools>=41.0.0 in c:\\users\\jaikr\\.conda\\envs\\jupyter_\\lib\\site-packages (from tensorboard~=2.4->tensorflow==2.4.1) (65.6.3)\n",
      "Requirement already satisfied: google-auth<3,>=1.6.3 in c:\\users\\jaikr\\.conda\\envs\\jupyter_\\lib\\site-packages (from tensorboard~=2.4->tensorflow==2.4.1) (2.22.0)\n",
      "Requirement already satisfied: tensorboard-plugin-wit>=1.6.0 in c:\\users\\jaikr\\.conda\\envs\\jupyter_\\lib\\site-packages (from tensorboard~=2.4->tensorflow==2.4.1) (1.8.1)\n",
      "Requirement already satisfied: requests<3,>=2.21.0 in c:\\users\\jaikr\\.conda\\envs\\jupyter_\\lib\\site-packages (from tensorboard~=2.4->tensorflow==2.4.1) (2.28.1)\n",
      "Requirement already satisfied: google-auth-oauthlib<0.5,>=0.4.1 in c:\\users\\jaikr\\.conda\\envs\\jupyter_\\lib\\site-packages (from tensorboard~=2.4->tensorflow==2.4.1) (0.4.6)\n",
      "Requirement already satisfied: markdown>=2.6.8 in c:\\users\\jaikr\\.conda\\envs\\jupyter_\\lib\\site-packages (from tensorboard~=2.4->tensorflow==2.4.1) (3.4.4)\n",
      "Requirement already satisfied: rsa<5,>=3.1.4 in c:\\users\\jaikr\\.conda\\envs\\jupyter_\\lib\\site-packages (from google-auth<3,>=1.6.3->tensorboard~=2.4->tensorflow==2.4.1) (4.9)\n",
      "Requirement already satisfied: urllib3<2.0 in c:\\users\\jaikr\\.conda\\envs\\jupyter_\\lib\\site-packages (from google-auth<3,>=1.6.3->tensorboard~=2.4->tensorflow==2.4.1) (1.26.14)\n",
      "Requirement already satisfied: pyasn1-modules>=0.2.1 in c:\\users\\jaikr\\.conda\\envs\\jupyter_\\lib\\site-packages (from google-auth<3,>=1.6.3->tensorboard~=2.4->tensorflow==2.4.1) (0.3.0)\n",
      "Requirement already satisfied: cachetools<6.0,>=2.0.0 in c:\\users\\jaikr\\.conda\\envs\\jupyter_\\lib\\site-packages (from google-auth<3,>=1.6.3->tensorboard~=2.4->tensorflow==2.4.1) (5.3.1)\n",
      "Requirement already satisfied: requests-oauthlib>=0.7.0 in c:\\users\\jaikr\\.conda\\envs\\jupyter_\\lib\\site-packages (from google-auth-oauthlib<0.5,>=0.4.1->tensorboard~=2.4->tensorflow==2.4.1) (1.3.1)\n",
      "Requirement already satisfied: importlib-metadata>=4.4 in c:\\users\\jaikr\\.conda\\envs\\jupyter_\\lib\\site-packages (from markdown>=2.6.8->tensorboard~=2.4->tensorflow==2.4.1) (4.11.3)\n",
      "Requirement already satisfied: idna<4,>=2.5 in c:\\users\\jaikr\\.conda\\envs\\jupyter_\\lib\\site-packages (from requests<3,>=2.21.0->tensorboard~=2.4->tensorflow==2.4.1) (3.4)\n",
      "Requirement already satisfied: charset-normalizer<3,>=2 in c:\\users\\jaikr\\.conda\\envs\\jupyter_\\lib\\site-packages (from requests<3,>=2.21.0->tensorboard~=2.4->tensorflow==2.4.1) (2.0.4)\n",
      "Requirement already satisfied: certifi>=2017.4.17 in c:\\users\\jaikr\\.conda\\envs\\jupyter_\\lib\\site-packages (from requests<3,>=2.21.0->tensorboard~=2.4->tensorflow==2.4.1) (2022.12.7)\n",
      "Requirement already satisfied: MarkupSafe>=2.1.1 in c:\\users\\jaikr\\.conda\\envs\\jupyter_\\lib\\site-packages (from werkzeug>=1.0.1->tensorboard~=2.4->tensorflow==2.4.1) (2.1.1)\n",
      "Requirement already satisfied: zipp>=0.5 in c:\\users\\jaikr\\.conda\\envs\\jupyter_\\lib\\site-packages (from importlib-metadata>=4.4->markdown>=2.6.8->tensorboard~=2.4->tensorflow==2.4.1) (3.11.0)\n",
      "Requirement already satisfied: pyasn1<0.6.0,>=0.4.6 in c:\\users\\jaikr\\.conda\\envs\\jupyter_\\lib\\site-packages (from pyasn1-modules>=0.2.1->google-auth<3,>=1.6.3->tensorboard~=2.4->tensorflow==2.4.1) (0.5.0)\n",
      "Requirement already satisfied: oauthlib>=3.0.0 in c:\\users\\jaikr\\.conda\\envs\\jupyter_\\lib\\site-packages (from requests-oauthlib>=0.7.0->google-auth-oauthlib<0.5,>=0.4.1->tensorboard~=2.4->tensorflow==2.4.1) (3.2.2)\n"
     ]
    }
   ],
   "source": [
    "!pip install tensorflow==2.4.1 tensorflow-gpu==2.4.1  opencv-python matplotlib"
   ]
  },
  {
   "cell_type": "code",
   "execution_count": 2,
   "id": "fe64e33c",
   "metadata": {},
   "outputs": [
    {
     "name": "stdout",
     "output_type": "stream",
     "text": [
      "Requirement already satisfied: tensorflow-hub in c:\\users\\jaikr\\.conda\\envs\\jupyter_\\lib\\site-packages (0.14.0)\n",
      "Requirement already satisfied: numpy>=1.12.0 in c:\\users\\jaikr\\.conda\\envs\\jupyter_\\lib\\site-packages (from tensorflow-hub) (1.19.5)\n",
      "Requirement already satisfied: protobuf>=3.19.6 in c:\\users\\jaikr\\.conda\\envs\\jupyter_\\lib\\site-packages (from tensorflow-hub) (3.20.3)\n"
     ]
    }
   ],
   "source": [
    "!pip install tensorflow-hub"
   ]
  },
  {
   "cell_type": "code",
   "execution_count": 3,
   "id": "1e0afb22",
   "metadata": {},
   "outputs": [],
   "source": [
    "import tensorflow as tf\n",
    "import tensorflow_hub as hub\n",
    "import numpy as np\n",
    "from matplotlib import pyplot as plt\n",
    "import cv2\n"
   ]
  },
  {
   "cell_type": "code",
   "execution_count": 4,
   "id": "54463e8d",
   "metadata": {},
   "outputs": [
    {
     "name": "stderr",
     "output_type": "stream",
     "text": [
      "Downloading packages: 100%|████████████████████████████████████████████████████████████| 10/10 [00:05<00:00,  1.96it/s]\n"
     ]
    }
   ],
   "source": [
    "from tqdm import tqdm\n",
    "import time\n",
    "\n",
    "# Simulating package download using a loop\n",
    "total_packages = 10\n",
    "for package_number in tqdm(range(total_packages), desc=\"Downloading packages\"):\n",
    "    # Simulating download delay\n",
    "    time.sleep(0.5)  # Remove this line and replace with actual download code\n"
   ]
  },
  {
   "cell_type": "markdown",
   "id": "1125a2c3",
   "metadata": {},
   "source": [
    "LOAD MODEL"
   ]
  },
  {
   "cell_type": "code",
   "execution_count": 5,
   "id": "98fbdf06",
   "metadata": {},
   "outputs": [],
   "source": [
    "model = hub.load('https://tfhub.dev/google/movenet/multipose/lightning/1')\n",
    "movenet = model.signatures['serving_default']"
   ]
  },
  {
   "cell_type": "markdown",
   "id": "ec5e96cd",
   "metadata": {},
   "source": [
    "MAKE DETECTIONS"
   ]
  },
  {
   "cell_type": "code",
   "execution_count": 6,
   "id": "c8460b1c",
   "metadata": {
    "scrolled": false
   },
   "outputs": [
    {
     "name": "stdout",
     "output_type": "stream",
     "text": [
      "[[[6.15824699e-01 8.30269992e-01 1.80919603e-01]\n",
      "  [5.03721356e-01 8.48102450e-01 4.53501791e-01]\n",
      "  [5.18016458e-01 7.78070033e-01 1.86308593e-01]\n",
      "  [5.29927135e-01 7.98005164e-01 2.72204161e-01]\n",
      "  [5.11388242e-01 5.70546687e-01 4.53284800e-01]\n",
      "  [8.86852205e-01 8.31243455e-01 3.94961059e-01]\n",
      "  [8.76189888e-01 3.59311998e-01 1.83574751e-01]\n",
      "  [9.39131975e-01 8.24714303e-01 9.66103654e-03]\n",
      "  [9.80605364e-01 1.53028756e-01 4.05394734e-04]\n",
      "  [7.55504787e-01 7.63690174e-01 1.61266383e-02]\n",
      "  [9.31329370e-01 4.62064326e-01 1.36426901e-02]\n",
      "  [9.81241465e-01 5.86082399e-01 3.16215755e-06]\n",
      "  [9.55571175e-01 3.43351156e-01 1.75889523e-04]\n",
      "  [9.40991163e-01 7.18399048e-01 1.79744978e-02]\n",
      "  [9.55071390e-01 3.69687021e-01 4.22572941e-02]\n",
      "  [4.57243145e-01 3.94128799e-01 1.76719623e-03]\n",
      "  [5.23826122e-01 5.55865109e-01 3.78306489e-03]]\n",
      "\n",
      " [[3.92224848e-01 1.01505496e-01 1.31873181e-03]\n",
      "  [3.72020334e-01 8.20977315e-02 6.05518813e-04]\n",
      "  [3.84098381e-01 8.80141780e-02 6.37661142e-04]\n",
      "  [3.59092772e-01 7.02496693e-02 2.62359303e-04]\n",
      "  [3.69419932e-01 7.55052119e-02 6.95094524e-04]\n",
      "  [4.02262986e-01 6.15667850e-02 3.04034853e-04]\n",
      "  [3.77206087e-01 8.89659077e-02 8.04231851e-04]\n",
      "  [4.15606946e-01 8.32137242e-02 1.59579248e-03]\n",
      "  [3.51742029e-01 9.28646848e-02 1.06906649e-04]\n",
      "  [3.80312890e-01 9.65320542e-02 3.93173145e-03]\n",
      "  [3.07850808e-01 1.17629677e-01 1.39848737e-03]\n",
      "  [5.36025941e-01 1.12733863e-01 1.04863849e-03]\n",
      "  [5.29542029e-01 1.20211780e-01 1.99299678e-03]\n",
      "  [5.19302726e-01 1.31069109e-01 1.89836184e-03]\n",
      "  [5.13257384e-01 1.34030297e-01 1.73825887e-03]\n",
      "  [5.15004396e-01 1.13574535e-01 6.90809044e-04]\n",
      "  [5.09901166e-01 9.29547548e-02 1.54959806e-03]]\n",
      "\n",
      " [[7.84235835e-01 5.73811173e-01 9.77239804e-04]\n",
      "  [8.02173495e-01 6.11937225e-01 2.27629265e-04]\n",
      "  [7.39207983e-01 5.28205693e-01 6.11247902e-04]\n",
      "  [8.14740598e-01 6.35118425e-01 1.07062981e-03]\n",
      "  [7.25769997e-01 4.67109621e-01 2.72063538e-03]\n",
      "  [9.26431835e-01 6.50003195e-01 2.79551931e-02]\n",
      "  [8.96573544e-01 3.72297406e-01 1.04021318e-01]\n",
      "  [9.56149936e-01 6.64397955e-01 3.14376764e-02]\n",
      "  [9.47536409e-01 2.97883213e-01 3.96263450e-02]\n",
      "  [7.90970445e-01 5.69028080e-01 1.04924766e-02]\n",
      "  [8.19694757e-01 2.86278456e-01 3.52440029e-02]\n",
      "  [9.84918833e-01 5.07851005e-01 1.70000476e-05]\n",
      "  [9.54722583e-01 3.59965920e-01 1.80447838e-04]\n",
      "  [9.85304832e-01 5.10779202e-01 4.12511127e-03]\n",
      "  [9.55071390e-01 3.69687021e-01 4.22572941e-02]\n",
      "  [9.68367755e-01 4.69828516e-01 2.92146491e-04]\n",
      "  [9.65502679e-01 3.45824569e-01 4.74795094e-03]]\n",
      "\n",
      " [[3.25921595e-01 9.47262347e-01 1.88793130e-02]\n",
      "  [3.25251758e-01 9.47107613e-01 1.50506934e-02]\n",
      "  [3.25011134e-01 9.47221220e-01 1.28410365e-02]\n",
      "  [3.22381973e-01 9.44244266e-01 1.95852946e-02]\n",
      "  [3.24393034e-01 9.46198881e-01 1.18315676e-02]\n",
      "  [3.21036339e-01 9.43200111e-01 2.96212528e-02]\n",
      "  [3.26655328e-01 9.31504607e-01 1.11919148e-02]\n",
      "  [2.93736935e-01 8.97287130e-01 1.14953637e-01]\n",
      "  [2.94682741e-01 8.94349396e-01 4.80272621e-02]\n",
      "  [2.52645075e-01 9.58567858e-01 3.51401828e-02]\n",
      "  [2.55578071e-01 9.53638494e-01 1.92937218e-02]\n",
      "  [4.25624698e-01 9.50381160e-01 2.63516186e-03]\n",
      "  [4.29262578e-01 9.55013037e-01 2.63781892e-03]\n",
      "  [3.52923095e-01 9.75774705e-01 1.53974937e-02]\n",
      "  [3.08637261e-01 8.94386649e-01 4.94394777e-03]\n",
      "  [3.42947900e-01 9.70104754e-01 3.75779532e-03]\n",
      "  [3.37539375e-01 9.38007057e-01 2.67252489e-03]]\n",
      "\n",
      " [[7.08022833e-01 2.89521754e-01 1.19023975e-02]\n",
      "  [6.84797287e-01 2.92439967e-01 1.07185179e-02]\n",
      "  [6.85297906e-01 2.56229579e-01 9.70617123e-03]\n",
      "  [7.01758623e-01 2.86824524e-01 2.33223438e-02]\n",
      "  [7.15065122e-01 2.87713498e-01 2.60540023e-02]\n",
      "  [7.67707765e-01 2.92133152e-01 2.62780283e-02]\n",
      "  [7.68314004e-01 2.56748438e-01 8.43823403e-02]\n",
      "  [7.77217150e-01 2.78617203e-01 8.89187958e-03]\n",
      "  [8.56575847e-01 1.99798495e-01 9.75776687e-02]\n",
      "  [7.78568268e-01 2.30456173e-01 2.52704080e-02]\n",
      "  [8.24104786e-01 1.96746945e-01 1.60885990e-01]\n",
      "  [9.62191522e-01 2.12867647e-01 9.34214704e-03]\n",
      "  [9.18314636e-01 1.87978134e-01 3.03245895e-02]\n",
      "  [9.42583501e-01 1.85520083e-01 2.02097669e-02]\n",
      "  [9.40629005e-01 1.79405123e-01 4.41735163e-02]\n",
      "  [9.69951749e-01 1.77897245e-01 2.53064856e-02]\n",
      "  [8.97736669e-01 1.80622041e-01 2.93055326e-02]]\n",
      "\n",
      " [[4.21196431e-01 9.14558172e-02 2.53784796e-03]\n",
      "  [4.00723428e-01 9.91125405e-02 1.15086371e-03]\n",
      "  [3.98539722e-01 1.01387002e-01 7.49248196e-04]\n",
      "  [4.09417093e-01 8.92259106e-02 1.23799616e-03]\n",
      "  [4.21350181e-01 7.22877756e-02 1.82139478e-03]\n",
      "  [5.45165539e-01 1.35160446e-01 2.19061202e-03]\n",
      "  [4.65330184e-01 7.53664821e-02 2.31149257e-03]\n",
      "  [5.55709958e-01 1.33399025e-01 2.45299703e-03]\n",
      "  [5.32852232e-01 1.50662377e-01 1.36193505e-03]\n",
      "  [4.87919778e-01 8.00579637e-02 3.27761658e-03]\n",
      "  [4.30785507e-01 1.04572743e-01 4.09818254e-03]\n",
      "  [7.14208007e-01 1.44891024e-01 5.18989982e-03]\n",
      "  [7.15066910e-01 1.33222312e-01 9.63626523e-03]\n",
      "  [7.26947427e-01 1.58009887e-01 2.07547704e-03]\n",
      "  [7.23226964e-01 1.20478466e-01 2.00583972e-03]\n",
      "  [8.34018707e-01 1.68654978e-01 1.47967669e-03]\n",
      "  [7.68229008e-01 1.03116192e-01 2.56997603e-03]]]\n"
     ]
    },
    {
     "ename": "NameError",
     "evalue": "name 'loop_through_people' is not defined",
     "output_type": "error",
     "traceback": [
      "\u001b[1;31m---------------------------------------------------------------------------\u001b[0m",
      "\u001b[1;31mNameError\u001b[0m                                 Traceback (most recent call last)",
      "\u001b[1;32m~\\AppData\\Local\\Temp\\ipykernel_10200\\3215968321.py\u001b[0m in \u001b[0;36m<module>\u001b[1;34m\u001b[0m\n\u001b[0;32m     18\u001b[0m \u001b[1;33m\u001b[0m\u001b[0m\n\u001b[0;32m     19\u001b[0m     \u001b[1;31m#Rendering\u001b[0m\u001b[1;33m\u001b[0m\u001b[1;33m\u001b[0m\u001b[1;33m\u001b[0m\u001b[0m\n\u001b[1;32m---> 20\u001b[1;33m     \u001b[0mloop_through_people\u001b[0m\u001b[1;33m(\u001b[0m\u001b[0mframe\u001b[0m\u001b[1;33m,\u001b[0m\u001b[0mkeypoints_with_scores\u001b[0m\u001b[1;33m,\u001b[0m\u001b[0mEDGES\u001b[0m\u001b[1;33m,\u001b[0m\u001b[1;36m0.3\u001b[0m\u001b[1;33m)\u001b[0m\u001b[1;33m\u001b[0m\u001b[1;33m\u001b[0m\u001b[0m\n\u001b[0m\u001b[0;32m     21\u001b[0m \u001b[1;33m\u001b[0m\u001b[0m\n\u001b[0;32m     22\u001b[0m \u001b[1;33m\u001b[0m\u001b[0m\n",
      "\u001b[1;31mNameError\u001b[0m: name 'loop_through_people' is not defined"
     ]
    }
   ],
   "source": [
    "cap = cv2.VideoCapture(0)\n",
    "while cap.isOpened():\n",
    "    ret,frame = cap.read()    #return value,image\n",
    "    \n",
    "    #reshape image cuz Movenet expects input to be 192x192x3 and float32\n",
    "    img = frame.copy()\n",
    "    img = tf.image.resize_with_pad(np.expand_dims(img,axis=0),192,256)\n",
    "    input_img = tf.cast(img,dtype=tf.int32)\n",
    "    \n",
    "    \n",
    "    #Detections\n",
    "    results = movenet(input_img)\n",
    "    keypoints_with_scores = results['output_0'].numpy()[:,:,:51].reshape((6,17,3))\n",
    "    print(keypoints_with_scores)\n",
    "   \n",
    "    \n",
    "    \n",
    "    \n",
    "    #Rendering\n",
    "    loop_through_people(frame,keypoints_with_scores,EDGES,0.3)\n",
    "   \n",
    "    \n",
    "    cv2.imshow('MoveNet Multipose',frame)\n",
    "    \n",
    "    if cv2.waitKey(10) & 0xFF==ord('q'):\n",
    "        break\n",
    "cap.release()\n",
    "cv2.destroyAllWindows()"
   ]
  },
  {
   "cell_type": "code",
   "execution_count": null,
   "id": "155d8624",
   "metadata": {},
   "outputs": [],
   "source": [
    "results   # y*x*score = 3  =3*17keypoints \n",
    "\n",
    "#3*17 +5-->these 5 are bounding box points so total its 56keypoints"
   ]
  },
  {
   "cell_type": "code",
   "execution_count": null,
   "id": "6b29a86e",
   "metadata": {},
   "outputs": [],
   "source": [
    "results['output_0'].numpy()[:,:,:51]  #only body keypoints.. for all of the 6 people"
   ]
  },
  {
   "cell_type": "code",
   "execution_count": null,
   "id": "59519ae4",
   "metadata": {},
   "outputs": [],
   "source": [
    "cap.release()\n",
    "cv2.destroyAllWindows()"
   ]
  },
  {
   "cell_type": "code",
   "execution_count": null,
   "id": "689b8931",
   "metadata": {},
   "outputs": [],
   "source": [
    "interpreter.get_tensor(interpreter.get_output_details()[0]['index'])"
   ]
  },
  {
   "cell_type": "code",
   "execution_count": null,
   "id": "b3112925",
   "metadata": {},
   "outputs": [],
   "source": [
    "np.array(left_elbow[:2]*[480,640]).astype(int)"
   ]
  },
  {
   "cell_type": "code",
   "execution_count": null,
   "id": "5ef63485",
   "metadata": {},
   "outputs": [],
   "source": [
    "np.squeeze(np.multiply(interpreter.get_tensor(interpreter.get_output_details()[0]['index']),[480,640,1]))"
   ]
  },
  {
   "cell_type": "markdown",
   "id": "fedba226",
   "metadata": {},
   "source": [
    "Draw Keypoints"
   ]
  },
  {
   "cell_type": "code",
   "execution_count": null,
   "id": "3a57e37e",
   "metadata": {},
   "outputs": [],
   "source": [
    "def draw_keypoints(frame,keypoints,confidence_threshold):\n",
    "    y,x,c = frame.shape    #confidence/prob - c\n",
    "    shaped = np.squeeze(np.multiply(keypoints,[y,x,1]))   #multiplies keypoints and y,x,1 \n",
    "    \n",
    "    for kp in shaped:\n",
    "        ky,kx,kp_conf = kp\n",
    "        if kp_conf > confidence_threshold:\n",
    "            cv2.circle(frame,(int(kx),int(ky)),4,(0,255,0),-1)   #color (0,255,0) BGR  #-1 indicates it fills in with that color mentioned\n",
    "        "
   ]
  },
  {
   "cell_type": "code",
   "execution_count": null,
   "id": "bd638497",
   "metadata": {},
   "outputs": [],
   "source": [
    "def loop_through_people(frame,keypoint_with_scores,edges,confidence_threshold):\n",
    "    for person in keypoints_with_scores:\n",
    "        draw_connections(frame,person,edges,confidence_threshold)\n",
    "        draw_keypoints(frame,person,confidence_threshold)     #looping to all 6 ppl in frame\n",
    "        "
   ]
  },
  {
   "cell_type": "code",
   "execution_count": null,
   "id": "dd4d25f4",
   "metadata": {},
   "outputs": [],
   "source": [
    "keypoints_with_scores.shape    #returns 6 ppl,17keypoints, y,x,c"
   ]
  },
  {
   "cell_type": "markdown",
   "id": "0f03eafd",
   "metadata": {},
   "source": [
    "Draw Edges"
   ]
  },
  {
   "cell_type": "code",
   "execution_count": null,
   "id": "0d03bb37",
   "metadata": {},
   "outputs": [],
   "source": [
    "EDGES = {\n",
    "       (0,1):'m',\n",
    "       (0,2):'c',\n",
    "       (1,3):'m',\n",
    "       (2,4):'c',\n",
    "       (0,5):'m',\n",
    "       (0,6):'c',\n",
    "       (5,7):'m',\n",
    "       (7,9):'m',\n",
    "       (6,8):'c',\n",
    "       (8,10):'c',\n",
    "       (5,6):'y',\n",
    "       (5,11):'m',\n",
    "       (6,12):'c',\n",
    "       (11,12):'y',\n",
    "       (11,13):'m',\n",
    "       (13,15):'m',\n",
    "       (12,14):'c',\n",
    "       (14,16):'c'\n",
    "}\n",
    "\n",
    "# edge:color  for connections btw diff keypoint for eg point 0 connectws to 1 ...refer movenet doc for respective keypoints ref to body"
   ]
  },
  {
   "cell_type": "code",
   "execution_count": null,
   "id": "0692be9e",
   "metadata": {},
   "outputs": [],
   "source": [
    "def draw_connections(frame,keypoints,edges,confidence_threshold):\n",
    "    y,x,c = frame.shape\n",
    "    shaped = np.squeeze(np.multiply(keypoints,[y,x,1]))\n",
    "    \n",
    "    for edge, color in EDGES.items():\n",
    "        p1,p2 = edge\n",
    "        y1,x1,c1 = shaped[p1]\n",
    "        y2,x2,c2 = shaped[p2]\n",
    "        print(y1,x1,c1,y2,x2,c2)\n",
    "        \n",
    "        if (c1 > confidence_threshold) & (c2> confidence_threshold):\n",
    "            cv2.line(frame,(int(x1),int(y1)),(int(x2),int(y2)),(0,0,255),2)"
   ]
  },
  {
   "cell_type": "code",
   "execution_count": null,
   "id": "73f90275",
   "metadata": {},
   "outputs": [],
   "source": [
    "cap = cv2.VideoCapture('\"Put your video sample here\"')\n",
    "while cap.isOpened():\n",
    "    ret,frame = cap.read()    #return value,image\n",
    "    \n",
    "    #reshape image cuz Movenet expects input to be 192x192x3 and float32\n",
    "    img = frame.copy()\n",
    "    img = tf.image.resize_with_pad(np.expand_dims(img,axis=0),352,640)\n",
    "    input_img = tf.cast(img,dtype=tf.int32)\n",
    "    \n",
    "    \n",
    "    #Detections\n",
    "    results = movenet(input_img)\n",
    "    keypoints_with_scores = results['output_0'].numpy()[:,:,:51].reshape((6,17,3))\n",
    "    print(keypoints_with_scores)\n",
    "   \n",
    "  \n",
    "    \n",
    "    #Rendering\n",
    "    loop_through_people(frame,keypoints_with_scores,EDGES,0.3)\n",
    "   \n",
    "    \n",
    "    cv2.imshow('MoveNet Multipose',frame)\n",
    "    \n",
    "    if cv2.waitKey(10) & 0xFF==ord('q'):\n",
    "        break\n",
    "cap.release()\n",
    "cv2.destroyAllWindows()"
   ]
  },
  {
   "cell_type": "code",
   "execution_count": null,
   "id": "cab5de7d",
   "metadata": {},
   "outputs": [],
   "source": [
    "#For video rescaling\n",
    "frame.shape"
   ]
  },
  {
   "cell_type": "code",
   "execution_count": null,
   "id": "bff4ba5c",
   "metadata": {},
   "outputs": [],
   "source": [
    "#Resize accord to vid for movenet model it expects longer side of vid to be min 256 and others to be divisble by 32\n",
    "1080/1920"
   ]
  },
  {
   "cell_type": "code",
   "execution_count": null,
   "id": "c6b021b2",
   "metadata": {},
   "outputs": [],
   "source": [
    "1920/3"
   ]
  },
  {
   "cell_type": "code",
   "execution_count": null,
   "id": "a8d123ec",
   "metadata": {},
   "outputs": [],
   "source": [
    "640*0.5625"
   ]
  },
  {
   "cell_type": "code",
   "execution_count": null,
   "id": "cf7f745c",
   "metadata": {},
   "outputs": [],
   "source": [
    "360/32"
   ]
  },
  {
   "cell_type": "code",
   "execution_count": null,
   "id": "1d5a0a4a",
   "metadata": {},
   "outputs": [],
   "source": [
    "#So close to 11.25 then 32*11 = 352 scale down"
   ]
  },
  {
   "cell_type": "code",
   "execution_count": 7,
   "id": "56bfe45d",
   "metadata": {},
   "outputs": [],
   "source": [
    "cap.release()\n",
    "cv2.destroyAllWindows()"
   ]
  },
  {
   "cell_type": "code",
   "execution_count": null,
   "id": "9cd65cb3",
   "metadata": {},
   "outputs": [],
   "source": []
  }
 ],
 "metadata": {
  "kernelspec": {
   "display_name": "Python 3 (ipykernel)",
   "language": "python",
   "name": "python3"
  },
  "language_info": {
   "codemirror_mode": {
    "name": "ipython",
    "version": 3
   },
   "file_extension": ".py",
   "mimetype": "text/x-python",
   "name": "python",
   "nbconvert_exporter": "python",
   "pygments_lexer": "ipython3",
   "version": "3.7.16"
  }
 },
 "nbformat": 4,
 "nbformat_minor": 5
}
